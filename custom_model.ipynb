{
 "cells": [
  {
   "cell_type": "code",
   "execution_count": 16,
   "id": "79549b7f",
   "metadata": {
    "execution": {
     "iopub.execute_input": "2023-06-05T19:58:03.409103Z",
     "iopub.status.busy": "2023-06-05T19:58:03.408625Z",
     "iopub.status.idle": "2023-06-05T19:58:10.939766Z",
     "shell.execute_reply": "2023-06-05T19:58:10.938868Z"
    },
    "id": "Rx2nEWeBa2Dd",
    "papermill": {
     "duration": 7.547687,
     "end_time": "2023-06-05T19:58:10.942030",
     "exception": false,
     "start_time": "2023-06-05T19:58:03.394343",
     "status": "completed"
    },
    "tags": []
   },
   "outputs": [],
   "source": [
    "import os\n",
    "\n",
    "import cv2\n",
    "import matplotlib.pyplot as plt\n",
    "import numpy as np\n",
    "import pandas as pd\n",
    "import tensorflow as tf\n",
    "import tf2onnx\n",
    "from PIL import Image\n",
    "from sklearn.model_selection import train_test_split"
   ]
  },
  {
   "cell_type": "markdown",
   "id": "37e739b3",
   "metadata": {
    "pycharm": {
     "name": "#%% md\n"
    }
   },
   "source": [
    "### Dataset"
   ]
  },
  {
   "cell_type": "code",
   "execution_count": 17,
   "id": "91a755e7",
   "metadata": {
    "execution": {
     "iopub.execute_input": "2023-06-05T19:58:10.969531Z",
     "iopub.status.busy": "2023-06-05T19:58:10.968313Z",
     "iopub.status.idle": "2023-06-05T19:58:20.947326Z",
     "shell.execute_reply": "2023-06-05T19:58:20.946057Z"
    },
    "id": "2eQlZnRKTrq5",
    "outputId": "5b4633aa-358d-44d1-c9b3-d65eebbb50ec",
    "papermill": {
     "duration": 9.99515,
     "end_time": "2023-06-05T19:58:20.950133",
     "exception": false,
     "start_time": "2023-06-05T19:58:10.954983",
     "status": "completed"
    },
    "tags": []
   },
   "outputs": [],
   "source": [
    "# !wget -O dataset.zip https://chmura.put.poznan.pl/s/LxYSsota5PCbXcU/download\n",
    "# !mkdir dataset_jetbot\n",
    "# !unzip dataset.zip\n",
    "# !rm dataset/1652875851.3497071/0199.jpg"
   ]
  },
  {
   "cell_type": "code",
   "execution_count": 18,
   "id": "94364e40",
   "metadata": {
    "pycharm": {
     "name": "#%%\n"
    }
   },
   "outputs": [],
   "source": [
    "def preprocess_image(img):\n",
    "    img = cv2.resize(img, (64, 64))\n",
    "    return np.array(img).astype(np.float32) / 255"
   ]
  },
  {
   "cell_type": "code",
   "execution_count": 19,
   "id": "4ce13a74",
   "metadata": {
    "execution": {
     "iopub.execute_input": "2023-06-05T19:58:33.208572Z",
     "iopub.status.busy": "2023-06-05T19:58:33.207024Z",
     "iopub.status.idle": "2023-06-05T19:58:44.279236Z",
     "shell.execute_reply": "2023-06-05T19:58:44.278193Z"
    },
    "id": "dulXGiLJYJMt",
    "papermill": {
     "duration": 11.10181,
     "end_time": "2023-06-05T19:58:44.282085",
     "exception": false,
     "start_time": "2023-06-05T19:58:33.180275",
     "status": "completed"
    },
    "tags": []
   },
   "outputs": [],
   "source": [
    "def create_dataset(img_folder):\n",
    "    X, y = [], []\n",
    "    for dir1 in os.listdir(img_folder):\n",
    "        if '.csv' not in dir1:\n",
    "            csv = pd.read_csv(os.path.join(img_folder, dir1 + '.csv'), sep=',', header=None)\n",
    "            for row in csv.iterrows():\n",
    "                y.append((row[1][1], row[1][2]))\n",
    "            for file in sorted(os.listdir(os.path.join(img_folder, dir1))):\n",
    "                image = cv2.imread(os.path.join(img_folder, dir1, file), cv2.COLOR_BGR2RGB)\n",
    "                X.append(preprocess_image(image))\n",
    "\n",
    "    return np.array(X), np.array(y)"
   ]
  },
  {
   "cell_type": "code",
   "execution_count": 20,
   "id": "3d3de243",
   "metadata": {
    "pycharm": {
     "name": "#%%\n"
    }
   },
   "outputs": [
    {
     "data": {
      "text/plain": [
       "((7584, 64, 64, 3), (7584, 2))"
      ]
     },
     "execution_count": 20,
     "metadata": {},
     "output_type": "execute_result"
    }
   ],
   "source": [
    "X, y = create_dataset('./dataset/')\n",
    "X.shape, y.shape"
   ]
  },
  {
   "cell_type": "code",
   "execution_count": 21,
   "id": "b12f3ef6",
   "metadata": {
    "pycharm": {
     "name": "#%%\n"
    }
   },
   "outputs": [
    {
     "data": {
      "text/plain": [
       "((5308, 64, 64, 3), (2276, 64, 64, 3), (5308, 2), (2276, 2))"
      ]
     },
     "execution_count": 21,
     "metadata": {},
     "output_type": "execute_result"
    }
   ],
   "source": [
    "X_train, X_test, y_train, y_test = train_test_split(X, y, train_size=0.7, random_state=23)\n",
    "X_train.shape, X_test.shape, y_train.shape, y_test.shape"
   ]
  },
  {
   "cell_type": "markdown",
   "id": "a61099ab",
   "metadata": {
    "pycharm": {
     "name": "#%% md\n"
    }
   },
   "source": [
    "### Model"
   ]
  },
  {
   "cell_type": "code",
   "execution_count": 22,
   "id": "5c7d9c4e",
   "metadata": {
    "pycharm": {
     "name": "#%%\n"
    }
   },
   "outputs": [],
   "source": [
    "model = tf.keras.Sequential([\n",
    "    tf.keras.layers.InputLayer(input_shape=(64, 64, 3)),\n",
    "\n",
    "    tf.keras.layers.Conv2D(32, (3, 3), activation='relu'),\n",
    "    tf.keras.layers.MaxPool2D((2, 2)),\n",
    "\n",
    "    tf.keras.layers.Conv2D(64, (3, 3), activation='relu'),\n",
    "    tf.keras.layers.MaxPool2D((2, 2)),\n",
    "\n",
    "    tf.keras.layers.Conv2D(128, (3, 3), activation='relu'),\n",
    "    tf.keras.layers.MaxPool2D((2, 2)),\n",
    "\n",
    "    tf.keras.layers.Flatten(),\n",
    "    tf.keras.layers.Dense(32, activation='relu'),\n",
    "    tf.keras.layers.Dropout(0.5),\n",
    "    tf.keras.layers.Dense(2, activation='tanh')\n",
    "])"
   ]
  },
  {
   "cell_type": "code",
   "execution_count": 23,
   "id": "5aed74cc",
   "metadata": {
    "execution": {
     "iopub.execute_input": "2023-06-05T20:01:52.390269Z",
     "iopub.status.busy": "2023-06-05T20:01:52.389730Z",
     "iopub.status.idle": "2023-06-05T20:01:52.831296Z",
     "shell.execute_reply": "2023-06-05T20:01:52.830381Z"
    },
    "id": "qws25h7pUO1R",
    "papermill": {
     "duration": 0.47672,
     "end_time": "2023-06-05T20:01:52.833666",
     "exception": false,
     "start_time": "2023-06-05T20:01:52.356946",
     "status": "completed"
    },
    "tags": []
   },
   "outputs": [],
   "source": [
    "model.compile(optimizer=tf.keras.optimizers.SGD(learning_rate=0.01),\n",
    "              loss=tf.keras.losses.MeanSquaredError(),\n",
    "              metrics=['mae'])"
   ]
  },
  {
   "cell_type": "code",
   "execution_count": 24,
   "id": "6994fb5f",
   "metadata": {
    "pycharm": {
     "name": "#%%\n"
    }
   },
   "outputs": [
    {
     "name": "stdout",
     "output_type": "stream",
     "text": [
      "Model: \"sequential_1\"\n",
      "_________________________________________________________________\n",
      " Layer (type)                Output Shape              Param #   \n",
      "=================================================================\n",
      " conv2d_3 (Conv2D)           (None, 62, 62, 32)        896       \n",
      "                                                                 \n",
      " max_pooling2d_3 (MaxPooling  (None, 31, 31, 32)       0         \n",
      " 2D)                                                             \n",
      "                                                                 \n",
      " conv2d_4 (Conv2D)           (None, 29, 29, 64)        18496     \n",
      "                                                                 \n",
      " max_pooling2d_4 (MaxPooling  (None, 14, 14, 64)       0         \n",
      " 2D)                                                             \n",
      "                                                                 \n",
      " conv2d_5 (Conv2D)           (None, 12, 12, 128)       73856     \n",
      "                                                                 \n",
      " max_pooling2d_5 (MaxPooling  (None, 6, 6, 128)        0         \n",
      " 2D)                                                             \n",
      "                                                                 \n",
      " flatten_1 (Flatten)         (None, 4608)              0         \n",
      "                                                                 \n",
      " dense_2 (Dense)             (None, 32)                147488    \n",
      "                                                                 \n",
      " dropout_1 (Dropout)         (None, 32)                0         \n",
      "                                                                 \n",
      " dense_3 (Dense)             (None, 2)                 66        \n",
      "                                                                 \n",
      "=================================================================\n",
      "Total params: 240,802\n",
      "Trainable params: 240,802\n",
      "Non-trainable params: 0\n",
      "_________________________________________________________________\n"
     ]
    }
   ],
   "source": [
    "model.summary()"
   ]
  },
  {
   "cell_type": "code",
   "execution_count": 25,
   "id": "55b614d4",
   "metadata": {},
   "outputs": [
    {
     "name": "stdout",
     "output_type": "stream",
     "text": [
      "Epoch 1/100\n",
      "166/166 [==============================] - 9s 54ms/step - loss: 0.2825 - mae: 0.3862 - val_loss: 0.2248 - val_mae: 0.3008 - lr: 0.0100\n",
      "Epoch 2/100\n",
      "166/166 [==============================] - 9s 52ms/step - loss: 0.2496 - mae: 0.3435 - val_loss: 0.2163 - val_mae: 0.2919 - lr: 0.0100\n",
      "Epoch 3/100\n",
      "166/166 [==============================] - 9s 54ms/step - loss: 0.2360 - mae: 0.3298 - val_loss: 0.2089 - val_mae: 0.2860 - lr: 0.0100\n",
      "Epoch 4/100\n",
      "166/166 [==============================] - 9s 57ms/step - loss: 0.2250 - mae: 0.3177 - val_loss: 0.2011 - val_mae: 0.2834 - lr: 0.0100\n",
      "Epoch 5/100\n",
      "166/166 [==============================] - 9s 55ms/step - loss: 0.2152 - mae: 0.3102 - val_loss: 0.1928 - val_mae: 0.2846 - lr: 0.0100\n",
      "Epoch 6/100\n",
      "166/166 [==============================] - 9s 53ms/step - loss: 0.2036 - mae: 0.3055 - val_loss: 0.1802 - val_mae: 0.2822 - lr: 0.0100\n",
      "Epoch 7/100\n",
      "166/166 [==============================] - 9s 55ms/step - loss: 0.1879 - mae: 0.2976 - val_loss: 0.1607 - val_mae: 0.2710 - lr: 0.0100\n",
      "Epoch 8/100\n",
      "166/166 [==============================] - 10s 57ms/step - loss: 0.1739 - mae: 0.2912 - val_loss: 0.1533 - val_mae: 0.2729 - lr: 0.0100\n",
      "Epoch 9/100\n",
      "166/166 [==============================] - 10s 62ms/step - loss: 0.1633 - mae: 0.2855 - val_loss: 0.1378 - val_mae: 0.2647 - lr: 0.0100\n",
      "Epoch 10/100\n",
      "166/166 [==============================] - 10s 61ms/step - loss: 0.1538 - mae: 0.2781 - val_loss: 0.1444 - val_mae: 0.2742 - lr: 0.0100\n",
      "Epoch 11/100\n",
      "166/166 [==============================] - 11s 66ms/step - loss: 0.1470 - mae: 0.2735 - val_loss: 0.1203 - val_mae: 0.2514 - lr: 0.0100\n",
      "Epoch 12/100\n",
      "166/166 [==============================] - 10s 60ms/step - loss: 0.1413 - mae: 0.2683 - val_loss: 0.1151 - val_mae: 0.2454 - lr: 0.0100\n",
      "Epoch 13/100\n",
      "166/166 [==============================] - 11s 64ms/step - loss: 0.1382 - mae: 0.2638 - val_loss: 0.1109 - val_mae: 0.2417 - lr: 0.0100\n",
      "Epoch 14/100\n",
      "166/166 [==============================] - 11s 64ms/step - loss: 0.1338 - mae: 0.2581 - val_loss: 0.1084 - val_mae: 0.2377 - lr: 0.0100\n",
      "Epoch 15/100\n",
      "166/166 [==============================] - 9s 55ms/step - loss: 0.1312 - mae: 0.2550 - val_loss: 0.1096 - val_mae: 0.2346 - lr: 0.0100\n",
      "Epoch 16/100\n",
      "166/166 [==============================] - 9s 55ms/step - loss: 0.1281 - mae: 0.2501 - val_loss: 0.1121 - val_mae: 0.2418 - lr: 0.0100\n",
      "Epoch 17/100\n",
      "166/166 [==============================] - 10s 60ms/step - loss: 0.1272 - mae: 0.2479 - val_loss: 0.1043 - val_mae: 0.2277 - lr: 0.0100\n",
      "Epoch 18/100\n",
      "166/166 [==============================] - 10s 60ms/step - loss: 0.1253 - mae: 0.2456 - val_loss: 0.1029 - val_mae: 0.2266 - lr: 0.0100\n",
      "Epoch 19/100\n",
      "166/166 [==============================] - 10s 62ms/step - loss: 0.1218 - mae: 0.2396 - val_loss: 0.1022 - val_mae: 0.2224 - lr: 0.0100\n",
      "Epoch 20/100\n",
      "166/166 [==============================] - 10s 62ms/step - loss: 0.1196 - mae: 0.2373 - val_loss: 0.1026 - val_mae: 0.2219 - lr: 0.0100\n",
      "Epoch 21/100\n",
      "166/166 [==============================] - 10s 61ms/step - loss: 0.1192 - mae: 0.2358 - val_loss: 0.1000 - val_mae: 0.2178 - lr: 0.0100\n",
      "Epoch 22/100\n",
      "166/166 [==============================] - 9s 55ms/step - loss: 0.1169 - mae: 0.2324 - val_loss: 0.1018 - val_mae: 0.2242 - lr: 0.0100\n",
      "Epoch 23/100\n",
      "166/166 [==============================] - 10s 58ms/step - loss: 0.1143 - mae: 0.2290 - val_loss: 0.0993 - val_mae: 0.2151 - lr: 0.0100\n",
      "Epoch 24/100\n",
      "166/166 [==============================] - 10s 62ms/step - loss: 0.1140 - mae: 0.2277 - val_loss: 0.0975 - val_mae: 0.2130 - lr: 0.0100\n",
      "Epoch 25/100\n",
      "166/166 [==============================] - 11s 66ms/step - loss: 0.1128 - mae: 0.2256 - val_loss: 0.0970 - val_mae: 0.2124 - lr: 0.0100\n",
      "Epoch 26/100\n",
      "166/166 [==============================] - 10s 59ms/step - loss: 0.1111 - mae: 0.2231 - val_loss: 0.0964 - val_mae: 0.2112 - lr: 0.0100\n",
      "Epoch 27/100\n",
      "166/166 [==============================] - 10s 61ms/step - loss: 0.1120 - mae: 0.2236 - val_loss: 0.0960 - val_mae: 0.2115 - lr: 0.0100\n",
      "Epoch 28/100\n",
      "166/166 [==============================] - 11s 65ms/step - loss: 0.1102 - mae: 0.2218 - val_loss: 0.0962 - val_mae: 0.2073 - lr: 0.0100\n",
      "Epoch 29/100\n",
      "166/166 [==============================] - 10s 63ms/step - loss: 0.1094 - mae: 0.2200 - val_loss: 0.0947 - val_mae: 0.2063 - lr: 0.0100\n",
      "Epoch 30/100\n",
      "166/166 [==============================] - 10s 59ms/step - loss: 0.1084 - mae: 0.2187 - val_loss: 0.0956 - val_mae: 0.2061 - lr: 0.0100\n",
      "Epoch 31/100\n",
      "166/166 [==============================] - 10s 57ms/step - loss: 0.1073 - mae: 0.2158 - val_loss: 0.0946 - val_mae: 0.2045 - lr: 0.0100\n",
      "Epoch 32/100\n",
      "166/166 [==============================] - 10s 61ms/step - loss: 0.1061 - mae: 0.2157 - val_loss: 0.0941 - val_mae: 0.2041 - lr: 0.0100\n",
      "Epoch 33/100\n",
      "166/166 [==============================] - 9s 54ms/step - loss: 0.1042 - mae: 0.2127 - val_loss: 0.0951 - val_mae: 0.2022 - lr: 0.0100\n",
      "Epoch 34/100\n",
      "166/166 [==============================] - 10s 59ms/step - loss: 0.1048 - mae: 0.2132 - val_loss: 0.0933 - val_mae: 0.2029 - lr: 0.0100\n",
      "Epoch 35/100\n",
      "166/166 [==============================] - 10s 63ms/step - loss: 0.1041 - mae: 0.2119 - val_loss: 0.0928 - val_mae: 0.2015 - lr: 0.0100\n",
      "Epoch 36/100\n",
      "166/166 [==============================] - 10s 60ms/step - loss: 0.1031 - mae: 0.2111 - val_loss: 0.0956 - val_mae: 0.2029 - lr: 0.0100\n",
      "Epoch 37/100\n",
      "166/166 [==============================] - 10s 58ms/step - loss: 0.1025 - mae: 0.2088 - val_loss: 0.0924 - val_mae: 0.1995 - lr: 0.0100\n",
      "Epoch 38/100\n",
      "166/166 [==============================] - 10s 59ms/step - loss: 0.1018 - mae: 0.2077 - val_loss: 0.0933 - val_mae: 0.1969 - lr: 0.0100\n",
      "Epoch 39/100\n",
      "166/166 [==============================] - 9s 55ms/step - loss: 0.1035 - mae: 0.2104 - val_loss: 0.0920 - val_mae: 0.1975 - lr: 0.0100\n",
      "Epoch 40/100\n",
      "166/166 [==============================] - 11s 65ms/step - loss: 0.1011 - mae: 0.2070 - val_loss: 0.0933 - val_mae: 0.1971 - lr: 0.0100\n",
      "Epoch 41/100\n",
      "166/166 [==============================] - 10s 62ms/step - loss: 0.0991 - mae: 0.2042 - val_loss: 0.0917 - val_mae: 0.1970 - lr: 1.0000e-03\n",
      "Epoch 42/100\n",
      "166/166 [==============================] - 10s 58ms/step - loss: 0.1002 - mae: 0.2049 - val_loss: 0.0915 - val_mae: 0.1959 - lr: 1.0000e-03\n",
      "Epoch 43/100\n",
      "166/166 [==============================] - 10s 59ms/step - loss: 0.0990 - mae: 0.2030 - val_loss: 0.0914 - val_mae: 0.1956 - lr: 1.0000e-03\n",
      "Epoch 44/100\n",
      "166/166 [==============================] - 11s 67ms/step - loss: 0.0984 - mae: 0.2029 - val_loss: 0.0913 - val_mae: 0.1957 - lr: 1.0000e-03\n",
      "Epoch 45/100\n",
      "166/166 [==============================] - 10s 61ms/step - loss: 0.0983 - mae: 0.2024 - val_loss: 0.0912 - val_mae: 0.1959 - lr: 1.0000e-03\n",
      "Epoch 46/100\n",
      "166/166 [==============================] - 9s 57ms/step - loss: 0.1004 - mae: 0.2039 - val_loss: 0.0912 - val_mae: 0.1958 - lr: 1.0000e-04\n",
      "Epoch 47/100\n",
      "166/166 [==============================] - 9s 55ms/step - loss: 0.0983 - mae: 0.2027 - val_loss: 0.0912 - val_mae: 0.1958 - lr: 1.0000e-04\n",
      "Epoch 48/100\n",
      "166/166 [==============================] - 9s 56ms/step - loss: 0.0984 - mae: 0.2035 - val_loss: 0.0912 - val_mae: 0.1958 - lr: 1.0000e-04\n",
      "Epoch 49/100\n",
      "166/166 [==============================] - 10s 61ms/step - loss: 0.0969 - mae: 0.2019 - val_loss: 0.0912 - val_mae: 0.1958 - lr: 1.0000e-04\n",
      "Epoch 50/100\n",
      "166/166 [==============================] - 10s 62ms/step - loss: 0.0973 - mae: 0.2020 - val_loss: 0.0912 - val_mae: 0.1958 - lr: 1.0000e-04\n"
     ]
    }
   ],
   "source": [
    "early_stopping = tf.keras.callbacks.EarlyStopping(monitor=\"val_mae\", patience=7, restore_best_weights=True)\n",
    "reduce_lr = tf.keras.callbacks.ReduceLROnPlateau(monitor=\"val_mae\", factor=0.1, patience=2, min_lr=0.0001)\n",
    "history = model.fit(X_train, y_train, batch_size=32, epochs=100, validation_data=(X_test, y_test),\n",
    "                    callbacks=[early_stopping, reduce_lr])"
   ]
  },
  {
   "cell_type": "code",
   "execution_count": 26,
   "id": "66159feb",
   "metadata": {
    "execution": {
     "iopub.execute_input": "2023-06-05T20:31:02.423286Z",
     "iopub.status.busy": "2023-06-05T20:31:02.422809Z",
     "iopub.status.idle": "2023-06-05T20:31:36.697641Z",
     "shell.execute_reply": "2023-06-05T20:31:36.696752Z"
    },
    "id": "6c_RsnTFcTCc",
    "papermill": {
     "duration": 38.359611,
     "end_time": "2023-06-05T20:31:38.714504",
     "exception": false,
     "start_time": "2023-06-05T20:31:00.354893",
     "status": "completed"
    },
    "tags": []
   },
   "outputs": [
    {
     "data": {
      "image/png": "[encoded data removed]",
      "text/plain": [
       "<Figure size 800x800 with 2 Axes>"
      ]
     },
     "metadata": {},
     "output_type": "display_data"
    }
   ],
   "source": [
    "mae = history.history['mae']\n",
    "val_mae = history.history['val_mae']\n",
    "\n",
    "loss = history.history['loss']\n",
    "val_loss = history.history['val_loss']\n",
    "\n",
    "plt.figure(figsize=(8, 8))\n",
    "plt.subplot(2, 1, 1)\n",
    "plt.plot(mae, label='Training MAE')\n",
    "plt.plot(val_mae, label='Validation MAE')\n",
    "plt.legend(loc='upper right')\n",
    "plt.ylabel('MAE')\n",
    "plt.ylim([0, 0.4])\n",
    "plt.title('Training and Validation MAE')\n",
    "\n",
    "plt.subplot(2, 1, 2)\n",
    "plt.plot(loss, label='Training Loss')\n",
    "plt.plot(val_loss, label='Validation Loss')\n",
    "plt.legend(loc='upper right')\n",
    "plt.ylabel('MSE')\n",
    "plt.ylim([0, 0.4])\n",
    "plt.title('Training and Validation Loss')\n",
    "plt.xlabel('epoch')\n",
    "plt.show()"
   ]
  },
  {
   "cell_type": "code",
   "execution_count": 27,
   "id": "1ef656da",
   "metadata": {
    "execution": {
     "iopub.execute_input": "2023-06-05T20:32:04.595285Z",
     "iopub.status.busy": "2023-06-05T20:32:04.594903Z",
     "iopub.status.idle": "2023-06-05T20:32:04.599145Z",
     "shell.execute_reply": "2023-06-05T20:32:04.598126Z"
    },
    "papermill": {
     "duration": 2.029132,
     "end_time": "2023-06-05T20:32:04.601092",
     "exception": false,
     "start_time": "2023-06-05T20:32:02.571960",
     "status": "completed"
    },
    "tags": []
   },
   "outputs": [
    {
     "name": "stdout",
     "output_type": "stream",
     "text": [
      "1/1 [==============================] - 0s 67ms/step\n",
      "[[0.8953342 0.7412031]]\n",
      "[1.        0.9921875]\n"
     ]
    },
    {
     "data": {
      "image/png": "[encoded data removed]",
      "text/plain": [
       "<PIL.Image.Image image mode=RGB size=64x64>"
      ]
     },
     "execution_count": 27,
     "metadata": {},
     "output_type": "execute_result"
    }
   ],
   "source": [
    "idx = 1000\n",
    "\n",
    "print(model.predict(X_test[idx][np.newaxis, ...]))\n",
    "print(y_test[idx])\n",
    "Image.fromarray(np.asarray(X_test[idx] * 255).astype(np.uint8))"
   ]
  },
  {
   "cell_type": "code",
   "execution_count": 28,
   "id": "e52c50d5",
   "metadata": {
    "pycharm": {
     "name": "#%%\n"
    }
   },
   "outputs": [
    {
     "name": "stdout",
     "output_type": "stream",
     "text": [
      "72/72 [==============================] - 1s 14ms/step - loss: 0.0914 - mae: 0.1956\n"
     ]
    }
   ],
   "source": [
    "final_mae = model.evaluate(X_test, y_test)[1]"
   ]
  },
  {
   "cell_type": "code",
   "execution_count": 29,
   "id": "c1de0995",
   "metadata": {
    "pycharm": {
     "name": "#%%\n"
    }
   },
   "outputs": [
    {
     "name": "stderr",
     "output_type": "stream",
     "text": [
      "WARNING:absl:Found untraced functions such as _jit_compiled_convolution_op, _jit_compiled_convolution_op, _jit_compiled_convolution_op, _update_step_xla while saving (showing 4 of 4). These functions will not be directly callable after loading.\n"
     ]
    },
    {
     "name": "stdout",
     "output_type": "stream",
     "text": [
      "INFO:tensorflow:Assets written to: ./models/custom_model_no_aug_0.196\\assets\n"
     ]
    },
    {
     "name": "stderr",
     "output_type": "stream",
     "text": [
      "INFO:tensorflow:Assets written to: ./models/custom_model_no_aug_0.196\\assets\n"
     ]
    }
   ],
   "source": [
    "model.save(f\"./models/custom_model_no_aug_{final_mae:0.3f}\")"
   ]
  },
  {
   "cell_type": "code",
   "execution_count": 30,
   "id": "7041ec66",
   "metadata": {
    "pycharm": {
     "name": "#%%\n"
    }
   },
   "outputs": [],
   "source": [
    "spec = (tf.TensorSpec((None, 64, 64, 3), tf.float32, name=\"input\"),)\n",
    "model_proto, _ = tf2onnx.convert.from_keras(model, input_signature=spec, opset=11,\n",
    "                                            output_path=f\"onnx/custom_model_no_aug_{final_mae:0.3f}.onnx\")"
   ]
  },
  {
   "cell_type": "code",
   "execution_count": null,
   "id": "c71d9cff",
   "metadata": {},
   "outputs": [],
   "source": []
  }
 ],
 "metadata": {
  "kernelspec": {
   "display_name": "Python 3 (ipykernel)",
   "language": "python",
   "name": "python3"
  },
  "language_info": {
   "codemirror_mode": {
    "name": "ipython",
    "version": 3
   },
   "file_extension": ".py",
   "mimetype": "text/x-python",
   "name": "python",
   "nbconvert_exporter": "python",
   "pygments_lexer": "ipython3",
   "version": "3.9.13"
  },
  "papermill": {
   "default_parameters": {},
   "duration": 2079.550812,
   "end_time": "2023-06-05T20:32:32.594297",
   "environment_variables": {},
   "exception": null,
   "input_path": "__notebook__.ipynb",
   "output_path": "__notebook__.ipynb",
   "parameters": {},
   "start_time": "2023-06-05T19:57:53.043485",
   "version": "2.4.0"
  }
 },
 "nbformat": 4,
 "nbformat_minor": 5
}
