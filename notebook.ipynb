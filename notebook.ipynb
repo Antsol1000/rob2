{
 "cells": [
  {
   "cell_type": "code",
   "execution_count": 7,
   "id": "79549b7f",
   "metadata": {
    "execution": {
     "iopub.execute_input": "2023-06-05T19:58:03.409103Z",
     "iopub.status.busy": "2023-06-05T19:58:03.408625Z",
     "iopub.status.idle": "2023-06-05T19:58:10.939766Z",
     "shell.execute_reply": "2023-06-05T19:58:10.938868Z"
    },
    "id": "Rx2nEWeBa2Dd",
    "papermill": {
     "duration": 7.547687,
     "end_time": "2023-06-05T19:58:10.942030",
     "exception": false,
     "start_time": "2023-06-05T19:58:03.394343",
     "status": "completed"
    },
    "tags": []
   },
   "outputs": [],
   "source": [
    "import os\n",
    "\n",
    "import cv2\n",
    "import matplotlib.pyplot as plt\n",
    "import numpy as np\n",
    "import pandas as pd\n",
    "import tensorflow as tf\n",
    "import tf2onnx\n",
    "from PIL import Image\n",
    "from sklearn.model_selection import train_test_split\n",
    "from sklearn.utils import shuffle"
   ]
  },
  {
   "cell_type": "markdown",
   "source": [
    "### Dataset"
   ],
   "metadata": {
    "collapsed": false,
    "pycharm": {
     "name": "#%% md\n"
    }
   }
  },
  {
   "cell_type": "code",
   "execution_count": 8,
   "id": "91a755e7",
   "metadata": {
    "execution": {
     "iopub.execute_input": "2023-06-05T19:58:10.969531Z",
     "iopub.status.busy": "2023-06-05T19:58:10.968313Z",
     "iopub.status.idle": "2023-06-05T19:58:20.947326Z",
     "shell.execute_reply": "2023-06-05T19:58:20.946057Z"
    },
    "id": "2eQlZnRKTrq5",
    "outputId": "5b4633aa-358d-44d1-c9b3-d65eebbb50ec",
    "papermill": {
     "duration": 9.99515,
     "end_time": "2023-06-05T19:58:20.950133",
     "exception": false,
     "start_time": "2023-06-05T19:58:10.954983",
     "status": "completed"
    },
    "tags": []
   },
   "outputs": [],
   "source": [
    "# !wget -O dataset.zip https://chmura.put.poznan.pl/s/LxYSsota5PCbXcU/download\n",
    "# !mkdir dataset_jetbot\n",
    "# !unzip dataset.zip\n",
    "# !rm dataset/1652875851.3497071/0199.jpg"
   ]
  },
  {
   "cell_type": "code",
   "execution_count": 9,
   "outputs": [],
   "source": [
    "def preprocess_image(img):\n",
    "    img = cv2.resize(img, (64, 64))\n",
    "    return np.array(img).astype(np.float32) / 255"
   ],
   "metadata": {
    "collapsed": false,
    "pycharm": {
     "name": "#%%\n"
    }
   }
  },
  {
   "cell_type": "code",
   "execution_count": 10,
   "id": "4ce13a74",
   "metadata": {
    "execution": {
     "iopub.execute_input": "2023-06-05T19:58:33.208572Z",
     "iopub.status.busy": "2023-06-05T19:58:33.207024Z",
     "iopub.status.idle": "2023-06-05T19:58:44.279236Z",
     "shell.execute_reply": "2023-06-05T19:58:44.278193Z"
    },
    "id": "dulXGiLJYJMt",
    "papermill": {
     "duration": 11.10181,
     "end_time": "2023-06-05T19:58:44.282085",
     "exception": false,
     "start_time": "2023-06-05T19:58:33.180275",
     "status": "completed"
    },
    "tags": []
   },
   "outputs": [],
   "source": [
    "def create_dataset(img_folder):\n",
    "    X, y = [], []\n",
    "    for dir1 in os.listdir(img_folder):\n",
    "        if '.csv' not in dir1:\n",
    "            csv = pd.read_csv(os.path.join(img_folder, dir1 + '.csv'), sep=',', header=None)\n",
    "            for row in csv.iterrows():\n",
    "                y.append((row[1][1], row[1][2]))\n",
    "            for file in sorted(os.listdir(os.path.join(img_folder, dir1))):\n",
    "                image = cv2.imread(os.path.join(img_folder, dir1, file), cv2.COLOR_BGR2RGB)\n",
    "                X.append(preprocess_image(image))\n",
    "\n",
    "    return np.array(X), np.array(y)"
   ]
  },
  {
   "cell_type": "code",
   "execution_count": 11,
   "outputs": [
    {
     "data": {
      "text/plain": "((7584, 64, 64, 3), (7584, 2))"
     },
     "execution_count": 11,
     "metadata": {},
     "output_type": "execute_result"
    }
   ],
   "source": [
    "X, y = create_dataset('./dataset/')\n",
    "X.shape, y.shape"
   ],
   "metadata": {
    "collapsed": false,
    "pycharm": {
     "name": "#%%\n"
    }
   }
  },
  {
   "cell_type": "code",
   "execution_count": 12,
   "outputs": [
    {
     "data": {
      "text/plain": "((5308, 64, 64, 3), (2276, 64, 64, 3), (5308, 2), (2276, 2))"
     },
     "execution_count": 12,
     "metadata": {},
     "output_type": "execute_result"
    }
   ],
   "source": [
    "X_train, X_test, y_train, y_test = train_test_split(X, y, train_size=0.7, random_state=23)\n",
    "X_train.shape, X_test.shape, y_train.shape, y_test.shape"
   ],
   "metadata": {
    "collapsed": false,
    "pycharm": {
     "name": "#%%\n"
    }
   }
  },
  {
   "cell_type": "markdown",
   "source": [
    "### Augmentation"
   ],
   "metadata": {
    "collapsed": false,
    "pycharm": {
     "name": "#%% md\n"
    }
   }
  },
  {
   "cell_type": "code",
   "execution_count": 19,
   "outputs": [
    {
     "name": "stdout",
     "output_type": "stream",
     "text": [
      "[0.6875    0.9921875]\n"
     ]
    },
    {
     "data": {
      "text/plain": "<PIL.Image.Image image mode=RGB size=64x64>",
      "image/png": "[encoded data removed]"
     },
     "execution_count": 19,
     "metadata": {},
     "output_type": "execute_result"
    }
   ],
   "source": [
    "print(y[72])\n",
    "Image.fromarray(np.array(X[72] * 255).astype(np.uint8))"
   ],
   "metadata": {
    "collapsed": false,
    "pycharm": {
     "name": "#%%\n"
    }
   }
  },
  {
   "cell_type": "code",
   "execution_count": 20,
   "outputs": [],
   "source": [
    "def brightness_augment(img):\n",
    "    img = np.array(img * 255).astype(np.uint8)\n",
    "    hsv = cv2.cvtColor(img, cv2.COLOR_RGB2HSV)\n",
    "    hsv = np.array(hsv, dtype=np.float64)\n",
    "    hsv[:, :, 2] = hsv[:, :, 2] * (np.random.normal(1.0, 0.6))\n",
    "    hsv[:, :, 2][hsv[:, :, 2] > 255] = 255\n",
    "    hsv[:, :, 2][hsv[:, :, 2] < 0] = 0\n",
    "    rgb = cv2.cvtColor(np.array(hsv, dtype=np.uint8), cv2.COLOR_HSV2RGB)\n",
    "    return rgb.astype(np.float32) / 255"
   ],
   "metadata": {
    "collapsed": false,
    "pycharm": {
     "name": "#%%\n"
    }
   }
  },
  {
   "cell_type": "code",
   "execution_count": 21,
   "outputs": [
    {
     "name": "stdout",
     "output_type": "stream",
     "text": [
      "[0.6875    0.9921875]\n"
     ]
    },
    {
     "data": {
      "text/plain": "<PIL.Image.Image image mode=RGB size=64x64>",
      "image/png": "[encoded data removed]"
     },
     "execution_count": 21,
     "metadata": {},
     "output_type": "execute_result"
    }
   ],
   "source": [
    "print(y[72])\n",
    "Image.fromarray(np.array(brightness_augment(X[72]) * 255).astype(np.uint8))"
   ],
   "metadata": {
    "collapsed": false,
    "pycharm": {
     "name": "#%%\n"
    }
   }
  },
  {
   "cell_type": "code",
   "execution_count": 22,
   "outputs": [],
   "source": [
    "def flip_augment(img):\n",
    "    return cv2.flip(img, 1)\n",
    "\n",
    "def flip_label(label):\n",
    "    return (label[0], -label[1])"
   ],
   "metadata": {
    "collapsed": false,
    "pycharm": {
     "name": "#%%\n"
    }
   }
  },
  {
   "cell_type": "code",
   "execution_count": 23,
   "outputs": [
    {
     "name": "stdout",
     "output_type": "stream",
     "text": [
      "(0.6875, -0.9921875)\n"
     ]
    },
    {
     "data": {
      "text/plain": "<PIL.Image.Image image mode=RGB size=64x64>",
      "image/png": "[encoded data removed]"
     },
     "execution_count": 23,
     "metadata": {},
     "output_type": "execute_result"
    }
   ],
   "source": [
    "print(flip_label(y[72]))\n",
    "Image.fromarray(np.array(flip_augment(X[72]) * 255).astype(np.uint8))"
   ],
   "metadata": {
    "collapsed": false,
    "pycharm": {
     "name": "#%%\n"
    }
   }
  },
  {
   "cell_type": "code",
   "execution_count": 24,
   "outputs": [
    {
     "data": {
      "text/plain": "((26540, 64, 64, 3), (26540, 2))"
     },
     "execution_count": 24,
     "metadata": {},
     "output_type": "execute_result"
    }
   ],
   "source": [
    "X_aug, y_aug = [], []\n",
    "for xi, yi in zip(X_train, y_train):\n",
    "    bright1 = brightness_augment(xi)\n",
    "    bright2 = brightness_augment(xi)\n",
    "    flip1 = flip_augment(xi)\n",
    "    flip2 = flip_augment(bright1)\n",
    "    flip3 = flip_augment(bright2)\n",
    "\n",
    "    X_aug.append(bright1)\n",
    "    y_aug.append(yi)\n",
    "    X_aug.append(bright2)\n",
    "    y_aug.append(yi)\n",
    "    X_aug.append(flip1)\n",
    "    y_aug.append(flip_label(yi))\n",
    "    X_aug.append(flip2)\n",
    "    y_aug.append(flip_label(yi))\n",
    "    X_aug.append(flip3)\n",
    "    y_aug.append(flip_label(yi))\n",
    "\n",
    "X_aug, y_aug = np.array(X_aug), np.array(y_aug)\n",
    "X_aug.shape, y_aug.shape"
   ],
   "metadata": {
    "collapsed": false,
    "pycharm": {
     "name": "#%%\n"
    }
   }
  },
  {
   "cell_type": "code",
   "execution_count": 25,
   "outputs": [
    {
     "data": {
      "text/plain": "((31848, 64, 64, 3), (2276, 64, 64, 3), (31848, 2), (2276, 2))"
     },
     "execution_count": 25,
     "metadata": {},
     "output_type": "execute_result"
    }
   ],
   "source": [
    "X_train, y_train = np.concatenate([X_train, X_aug]), np.concatenate([y_train, y_aug])\n",
    "X_train, y_train = shuffle((X_train, y_train), random_state=23)\n",
    "X_train.shape, X_test.shape, y_train.shape, y_test.shape"
   ],
   "metadata": {
    "collapsed": false,
    "pycharm": {
     "name": "#%%\n"
    }
   }
  },
  {
   "cell_type": "markdown",
   "source": [
    "### Model"
   ],
   "metadata": {
    "collapsed": false,
    "pycharm": {
     "name": "#%% md\n"
    }
   }
  },
  {
   "cell_type": "code",
   "execution_count": 26,
   "outputs": [],
   "source": [
    "model = tf.keras.Sequential([\n",
    "    tf.keras.layers.InputLayer(input_shape=(64, 64, 3)),\n",
    "\n",
    "    tf.keras.layers.Conv2D(32, (3, 3), activation='relu'),\n",
    "    tf.keras.layers.MaxPool2D((2, 2)),\n",
    "\n",
    "    tf.keras.layers.Conv2D(64, (3, 3), activation='relu'),\n",
    "    tf.keras.layers.MaxPool2D((2, 2)),\n",
    "\n",
    "    tf.keras.layers.Conv2D(128, (3, 3), activation='relu'),\n",
    "    tf.keras.layers.MaxPool2D((2, 2)),\n",
    "\n",
    "    tf.keras.layers.Flatten(),\n",
    "    tf.keras.layers.Dense(32, activation='relu'),\n",
    "    tf.keras.layers.Dropout(0.5),\n",
    "    tf.keras.layers.Dense(2, activation='tanh')\n",
    "])"
   ],
   "metadata": {
    "collapsed": false,
    "pycharm": {
     "name": "#%%\n"
    }
   }
  },
  {
   "cell_type": "code",
   "execution_count": 27,
   "id": "5aed74cc",
   "metadata": {
    "execution": {
     "iopub.execute_input": "2023-06-05T20:01:52.390269Z",
     "iopub.status.busy": "2023-06-05T20:01:52.389730Z",
     "iopub.status.idle": "2023-06-05T20:01:52.831296Z",
     "shell.execute_reply": "2023-06-05T20:01:52.830381Z"
    },
    "id": "qws25h7pUO1R",
    "papermill": {
     "duration": 0.47672,
     "end_time": "2023-06-05T20:01:52.833666",
     "exception": false,
     "start_time": "2023-06-05T20:01:52.356946",
     "status": "completed"
    },
    "tags": []
   },
   "outputs": [],
   "source": [
    "model.compile(optimizer=tf.keras.optimizers.SGD(learning_rate=0.1),\n",
    "              loss=tf.keras.losses.MeanSquaredError(),\n",
    "              metrics=['mae'])"
   ]
  },
  {
   "cell_type": "code",
   "execution_count": 28,
   "outputs": [
    {
     "name": "stdout",
     "output_type": "stream",
     "text": [
      "Model: \"sequential\"\n",
      "_________________________________________________________________\n",
      " Layer (type)                Output Shape              Param #   \n",
      "=================================================================\n",
      " conv2d (Conv2D)             (None, 62, 62, 32)        896       \n",
      "                                                                 \n",
      " max_pooling2d (MaxPooling2D  (None, 31, 31, 32)       0         \n",
      " )                                                               \n",
      "                                                                 \n",
      " conv2d_1 (Conv2D)           (None, 29, 29, 64)        18496     \n",
      "                                                                 \n",
      " max_pooling2d_1 (MaxPooling  (None, 14, 14, 64)       0         \n",
      " 2D)                                                             \n",
      "                                                                 \n",
      " conv2d_2 (Conv2D)           (None, 12, 12, 128)       73856     \n",
      "                                                                 \n",
      " max_pooling2d_2 (MaxPooling  (None, 6, 6, 128)        0         \n",
      " 2D)                                                             \n",
      "                                                                 \n",
      " flatten (Flatten)           (None, 4608)              0         \n",
      "                                                                 \n",
      " dense (Dense)               (None, 32)                147488    \n",
      "                                                                 \n",
      " dropout (Dropout)           (None, 32)                0         \n",
      "                                                                 \n",
      " dense_1 (Dense)             (None, 2)                 66        \n",
      "                                                                 \n",
      "=================================================================\n",
      "Total params: 240,802\n",
      "Trainable params: 240,802\n",
      "Non-trainable params: 0\n",
      "_________________________________________________________________\n"
     ]
    }
   ],
   "source": [
    "model.summary()"
   ],
   "metadata": {
    "collapsed": false,
    "pycharm": {
     "name": "#%%\n"
    }
   }
  },
  {
   "cell_type": "code",
   "execution_count": 29,
   "id": "55b614d4",
   "metadata": {},
   "outputs": [
    {
     "name": "stdout",
     "output_type": "stream",
     "text": [
      "Epoch 1/100\n",
      "996/996 [==============================] - 50s 49ms/step - loss: 0.1848 - mae: 0.2787 - val_loss: 0.1294 - val_mae: 0.2535 - lr: 0.1000\n",
      "Epoch 2/100\n",
      "996/996 [==============================] - 52s 52ms/step - loss: 0.1241 - mae: 0.2207 - val_loss: 0.1004 - val_mae: 0.1949 - lr: 0.1000\n",
      "Epoch 3/100\n",
      "996/996 [==============================] - 54s 54ms/step - loss: 0.1158 - mae: 0.2105 - val_loss: 0.0936 - val_mae: 0.1864 - lr: 0.1000\n",
      "Epoch 4/100\n",
      "996/996 [==============================] - 53s 54ms/step - loss: 0.1094 - mae: 0.2032 - val_loss: 0.0898 - val_mae: 0.1846 - lr: 0.1000\n",
      "Epoch 5/100\n",
      "996/996 [==============================] - 55s 55ms/step - loss: 0.1051 - mae: 0.2002 - val_loss: 0.0950 - val_mae: 0.1934 - lr: 0.1000\n",
      "Epoch 6/100\n",
      "996/996 [==============================] - 55s 55ms/step - loss: 0.1005 - mae: 0.1943 - val_loss: 0.0881 - val_mae: 0.1807 - lr: 0.1000\n",
      "Epoch 7/100\n",
      "996/996 [==============================] - 54s 54ms/step - loss: 0.0973 - mae: 0.1907 - val_loss: 0.0897 - val_mae: 0.1839 - lr: 0.1000\n",
      "Epoch 8/100\n",
      "996/996 [==============================] - 55s 55ms/step - loss: 0.0936 - mae: 0.1862 - val_loss: 0.0875 - val_mae: 0.1799 - lr: 0.1000\n",
      "Epoch 9/100\n",
      "996/996 [==============================] - 53s 53ms/step - loss: 0.0898 - mae: 0.1813 - val_loss: 0.0934 - val_mae: 0.1825 - lr: 0.1000\n",
      "Epoch 10/100\n",
      "996/996 [==============================] - 54s 54ms/step - loss: 0.0861 - mae: 0.1768 - val_loss: 0.0873 - val_mae: 0.1756 - lr: 0.1000\n",
      "Epoch 11/100\n",
      "996/996 [==============================] - 55s 55ms/step - loss: 0.0825 - mae: 0.1727 - val_loss: 0.0885 - val_mae: 0.1752 - lr: 0.1000\n",
      "Epoch 12/100\n",
      "996/996 [==============================] - 55s 55ms/step - loss: 0.0798 - mae: 0.1678 - val_loss: 0.0878 - val_mae: 0.1765 - lr: 0.1000\n",
      "Epoch 13/100\n",
      "996/996 [==============================] - 55s 55ms/step - loss: 0.0766 - mae: 0.1635 - val_loss: 0.0932 - val_mae: 0.1916 - lr: 0.1000\n",
      "Epoch 14/100\n",
      "996/996 [==============================] - 56s 56ms/step - loss: 0.0733 - mae: 0.1590 - val_loss: 0.0906 - val_mae: 0.1767 - lr: 0.1000\n",
      "Epoch 15/100\n",
      "996/996 [==============================] - 55s 55ms/step - loss: 0.0661 - mae: 0.1490 - val_loss: 0.0907 - val_mae: 0.1710 - lr: 0.0500\n",
      "Epoch 16/100\n",
      "996/996 [==============================] - 55s 55ms/step - loss: 0.0639 - mae: 0.1453 - val_loss: 0.0906 - val_mae: 0.1757 - lr: 0.0500\n",
      "Epoch 17/100\n",
      "996/996 [==============================] - 55s 55ms/step - loss: 0.0614 - mae: 0.1421 - val_loss: 0.0947 - val_mae: 0.1845 - lr: 0.0500\n",
      "Epoch 18/100\n",
      "996/996 [==============================] - 55s 55ms/step - loss: 0.0589 - mae: 0.1377 - val_loss: 0.0916 - val_mae: 0.1724 - lr: 0.0500\n",
      "Epoch 19/100\n",
      "996/996 [==============================] - 56s 56ms/step - loss: 0.0560 - mae: 0.1331 - val_loss: 0.0922 - val_mae: 0.1710 - lr: 0.0250\n",
      "Epoch 20/100\n",
      "996/996 [==============================] - 55s 56ms/step - loss: 0.0540 - mae: 0.1303 - val_loss: 0.0927 - val_mae: 0.1705 - lr: 0.0250\n",
      "Epoch 21/100\n",
      "996/996 [==============================] - 55s 55ms/step - loss: 0.0527 - mae: 0.1278 - val_loss: 0.0927 - val_mae: 0.1714 - lr: 0.0250\n",
      "Epoch 22/100\n",
      "996/996 [==============================] - 54s 54ms/step - loss: 0.0523 - mae: 0.1267 - val_loss: 0.0939 - val_mae: 0.1699 - lr: 0.0250\n",
      "Epoch 23/100\n",
      "996/996 [==============================] - 54s 54ms/step - loss: 0.0509 - mae: 0.1244 - val_loss: 0.0945 - val_mae: 0.1740 - lr: 0.0250\n",
      "Epoch 24/100\n",
      "996/996 [==============================] - 55s 55ms/step - loss: 0.0507 - mae: 0.1244 - val_loss: 0.0933 - val_mae: 0.1702 - lr: 0.0250\n",
      "Epoch 25/100\n",
      "996/996 [==============================] - 57s 57ms/step - loss: 0.0488 - mae: 0.1216 - val_loss: 0.0964 - val_mae: 0.1733 - lr: 0.0250\n",
      "Epoch 26/100\n",
      "996/996 [==============================] - 55s 55ms/step - loss: 0.0477 - mae: 0.1185 - val_loss: 0.0944 - val_mae: 0.1706 - lr: 0.0125\n",
      "Epoch 27/100\n",
      "996/996 [==============================] - 54s 54ms/step - loss: 0.0468 - mae: 0.1172 - val_loss: 0.0954 - val_mae: 0.1722 - lr: 0.0125\n",
      "Epoch 28/100\n",
      "996/996 [==============================] - 54s 55ms/step - loss: 0.0464 - mae: 0.1164 - val_loss: 0.0953 - val_mae: 0.1704 - lr: 0.0125\n",
      "Epoch 29/100\n",
      "996/996 [==============================] - 55s 55ms/step - loss: 0.0455 - mae: 0.1148 - val_loss: 0.0956 - val_mae: 0.1712 - lr: 0.0063\n"
     ]
    }
   ],
   "source": [
    "early_stopping = tf.keras.callbacks.EarlyStopping(monitor=\"val_mae\", patience=7, restore_best_weights=True)\n",
    "reduce_lr = tf.keras.callbacks.ReduceLROnPlateau(monitor=\"val_mae\", factor=0.5, patience=3, min_lr=0.001)\n",
    "history = model.fit(X_train, y_train, batch_size=32, epochs=100, validation_data=(X_test, y_test),\n",
    "                    callbacks=[early_stopping, reduce_lr])"
   ]
  },
  {
   "cell_type": "code",
   "execution_count": 35,
   "id": "66159feb",
   "metadata": {
    "execution": {
     "iopub.execute_input": "2023-06-05T20:31:02.423286Z",
     "iopub.status.busy": "2023-06-05T20:31:02.422809Z",
     "iopub.status.idle": "2023-06-05T20:31:36.697641Z",
     "shell.execute_reply": "2023-06-05T20:31:36.696752Z"
    },
    "id": "6c_RsnTFcTCc",
    "papermill": {
     "duration": 38.359611,
     "end_time": "2023-06-05T20:31:38.714504",
     "exception": false,
     "start_time": "2023-06-05T20:31:00.354893",
     "status": "completed"
    },
    "tags": []
   },
   "outputs": [
    {
     "data": {
      "text/plain": "<Figure size 800x800 with 2 Axes>",
      "image/png": "[encoded data removed]"
     },
     "metadata": {},
     "output_type": "display_data"
    }
   ],
   "source": [
    "mae = history.history['mae']\n",
    "val_mae = history.history['val_mae']\n",
    "\n",
    "loss = history.history['loss']\n",
    "val_loss = history.history['val_loss']\n",
    "\n",
    "plt.figure(figsize=(8, 8))\n",
    "plt.subplot(2, 1, 1)\n",
    "plt.plot(mae, label='Training MAE')\n",
    "plt.plot(val_mae, label='Validation MAE')\n",
    "plt.legend(loc='upper right')\n",
    "plt.ylabel('MAE')\n",
    "plt.ylim([0, 0.4])\n",
    "plt.title('Training and Validation MAE')\n",
    "\n",
    "plt.subplot(2, 1, 2)\n",
    "plt.plot(loss, label='Training Loss')\n",
    "plt.plot(val_loss, label='Validation Loss')\n",
    "plt.legend(loc='upper right')\n",
    "plt.ylabel('Cross Entropy')\n",
    "plt.ylim([0, 0.4])\n",
    "plt.title('Training and Validation Loss')\n",
    "plt.xlabel('epoch')\n",
    "plt.show()"
   ]
  },
  {
   "cell_type": "code",
   "execution_count": 55,
   "id": "1ef656da",
   "metadata": {
    "execution": {
     "iopub.execute_input": "2023-06-05T20:32:04.595285Z",
     "iopub.status.busy": "2023-06-05T20:32:04.594903Z",
     "iopub.status.idle": "2023-06-05T20:32:04.599145Z",
     "shell.execute_reply": "2023-06-05T20:32:04.598126Z"
    },
    "papermill": {
     "duration": 2.029132,
     "end_time": "2023-06-05T20:32:04.601092",
     "exception": false,
     "start_time": "2023-06-05T20:32:02.571960",
     "status": "completed"
    },
    "tags": []
   },
   "outputs": [
    {
     "name": "stdout",
     "output_type": "stream",
     "text": [
      "1/1 [==============================] - 0s 31ms/step\n",
      "[[0.9756619 0.9999932]]\n",
      "[1.        0.9921875]\n"
     ]
    },
    {
     "data": {
      "text/plain": "<PIL.Image.Image image mode=RGB size=64x64>",
      "image/png": "[encoded data removed]"
     },
     "execution_count": 55,
     "metadata": {},
     "output_type": "execute_result"
    }
   ],
   "source": [
    "idx = 1000\n",
    "\n",
    "print(model.predict(X_test[idx][np.newaxis, ...]))\n",
    "print(y_test[idx])\n",
    "Image.fromarray(np.asarray(X_test[idx] * 255).astype(np.uint8))"
   ]
  },
  {
   "cell_type": "code",
   "execution_count": 56,
   "outputs": [
    {
     "name": "stdout",
     "output_type": "stream",
     "text": [
      "72/72 [==============================] - 1s 13ms/step - loss: 0.0939 - mae: 0.1699\n"
     ]
    }
   ],
   "source": [
    "final_mae = model.evaluate(X_test, y_test)[1]"
   ],
   "metadata": {
    "collapsed": false,
    "pycharm": {
     "name": "#%%\n"
    }
   }
  },
  {
   "cell_type": "code",
   "execution_count": 57,
   "outputs": [
    {
     "name": "stderr",
     "output_type": "stream",
     "text": [
      "WARNING:absl:Found untraced functions such as _jit_compiled_convolution_op, _jit_compiled_convolution_op, _jit_compiled_convolution_op, _update_step_xla while saving (showing 4 of 4). These functions will not be directly callable after loading.\n"
     ]
    },
    {
     "name": "stdout",
     "output_type": "stream",
     "text": [
      "INFO:tensorflow:Assets written to: ./models/model_0.170\\assets\n"
     ]
    },
    {
     "name": "stderr",
     "output_type": "stream",
     "text": [
      "INFO:tensorflow:Assets written to: ./models/model_0.170\\assets\n"
     ]
    }
   ],
   "source": [
    "model.save(f\"./models/model_{final_mae:0.3f}\")"
   ],
   "metadata": {
    "collapsed": false,
    "pycharm": {
     "name": "#%%\n"
    }
   }
  },
  {
   "cell_type": "code",
   "execution_count": 58,
   "outputs": [],
   "source": [
    "spec = (tf.TensorSpec((None, 64, 64, 3), tf.float32, name=\"input\"),)\n",
    "model_proto, _ = tf2onnx.convert.from_keras(model, input_signature=spec, opset=11,\n",
    "                                            output_path=f\"onnx/model_{final_mae:0.3f}.onnx\")"
   ],
   "metadata": {
    "collapsed": false,
    "pycharm": {
     "name": "#%%\n"
    }
   }
  }
 ],
 "metadata": {
  "kernelspec": {
   "display_name": "Python 3",
   "language": "python",
   "name": "python3"
  },
  "language_info": {
   "codemirror_mode": {
    "name": "ipython",
    "version": 3
   },
   "file_extension": ".py",
   "mimetype": "text/x-python",
   "name": "python",
   "nbconvert_exporter": "python",
   "pygments_lexer": "ipython3",
   "version": "3.10.7"
  },
  "papermill": {
   "default_parameters": {},
   "duration": 2079.550812,
   "end_time": "2023-06-05T20:32:32.594297",
   "environment_variables": {},
   "exception": null,
   "input_path": "__notebook__.ipynb",
   "output_path": "__notebook__.ipynb",
   "parameters": {},
   "start_time": "2023-06-05T19:57:53.043485",
   "version": "2.4.0"
  }
 },
 "nbformat": 4,
 "nbformat_minor": 5
}